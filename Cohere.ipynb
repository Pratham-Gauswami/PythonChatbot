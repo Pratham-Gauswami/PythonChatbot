{
 "cells": [
  {
   "cell_type": "code",
   "execution_count": 2,
   "metadata": {},
   "outputs": [
    {
     "name": "stdout",
     "output_type": "stream",
     "text": [
      "Package                  Version\n",
      "------------------------ ---------------\n",
      "aiohttp                  3.9.5\n",
      "aiosignal                1.3.1\n",
      "annotated-types          0.7.0\n",
      "anyio                    4.4.0\n",
      "appnope                  0.1.4\n",
      "asttokens                2.4.1\n",
      "attrs                    23.2.0\n",
      "boto3                    1.34.130\n",
      "botocore                 1.34.130\n",
      "certifi                  2024.6.2\n",
      "cffi                     1.16.0\n",
      "charset-normalizer       3.3.2\n",
      "clr-loader               0.2.6\n",
      "cohere                   5.5.8\n",
      "comm                     0.2.2\n",
      "debugpy                  1.8.1\n",
      "decorator                5.1.1\n",
      "executing                2.0.1\n",
      "fastavro                 1.9.4\n",
      "filelock                 3.15.3\n",
      "frozenlist               1.4.1\n",
      "fsspec                   2024.6.0\n",
      "h11                      0.14.0\n",
      "httpcore                 1.0.5\n",
      "httpx                    0.27.0\n",
      "httpx-sse                0.4.0\n",
      "huggingface-hub          0.23.4\n",
      "idna                     3.7\n",
      "ipykernel                6.29.4\n",
      "ipython                  8.25.0\n",
      "jedi                     0.19.1\n",
      "jmespath                 1.0.1\n",
      "jsonpatch                1.33\n",
      "jsonpointer              3.0.0\n",
      "jupyter_client           8.6.2\n",
      "jupyter_core             5.7.2\n",
      "langchain                0.2.5\n",
      "langchain-core           0.2.9\n",
      "langchain-text-splitters 0.2.1\n",
      "langsmith                0.1.81\n",
      "matplotlib-inline        0.1.7\n",
      "multidict                6.0.5\n",
      "nest-asyncio             1.6.0\n",
      "numpy                    1.26.4\n",
      "orjson                   3.10.5\n",
      "packaging                24.1\n",
      "parameterized            0.9.0\n",
      "parso                    0.8.4\n",
      "pexpect                  4.9.0\n",
      "pip                      24.0\n",
      "platformdirs             4.2.2\n",
      "prompt_toolkit           3.0.47\n",
      "psutil                   6.0.0\n",
      "ptyprocess               0.7.0\n",
      "pure-eval                0.2.2\n",
      "pycparser                2.22\n",
      "pydantic                 2.7.4\n",
      "pydantic_core            2.18.4\n",
      "Pygments                 2.18.0\n",
      "python-dateutil          2.9.0.post0\n",
      "pythonnet                3.0.3\n",
      "PyYAML                   6.0.1\n",
      "pyzmq                    26.0.3\n",
      "requests                 2.32.3\n",
      "s3transfer               0.10.1\n",
      "six                      1.16.0\n",
      "sniffio                  1.3.1\n",
      "SQLAlchemy               2.0.31\n",
      "stack-data               0.6.3\n",
      "tenacity                 8.4.1\n",
      "tokenizers               0.19.1\n",
      "tornado                  6.4.1\n",
      "tqdm                     4.66.4\n",
      "traitlets                5.14.3\n",
      "types-requests           2.32.0.20240602\n",
      "typing_extensions        4.12.2\n",
      "urllib3                  2.2.2\n",
      "wcwidth                  0.2.13\n",
      "yarl                     1.9.4\n",
      "Note: you may need to restart the kernel to use updated packages.\n"
     ]
    }
   ],
   "source": [
    "%pip list"
   ]
  },
  {
   "cell_type": "code",
   "execution_count": 1,
   "metadata": {},
   "outputs": [
    {
     "data": {
      "text/plain": [
       "NonStreamedChatResponse(text='', generation_id='1d1ef324-52a4-430f-a625-b2d2e27080d0', citations=None, documents=None, is_search_required=True, search_queries=[ChatSearchQuery(text='Nsync vs Backstreet Boys popularity', generation_id='1d1ef324-52a4-430f-a625-b2d2e27080d0')], search_results=None, finish_reason='COMPLETE', tool_calls=None, chat_history=[], prompt=None, meta=ApiMeta(api_version=ApiMetaApiVersion(version='1', is_deprecated=None, is_experimental=None), billed_units=ApiMetaBilledUnits(input_tokens=11, output_tokens=6, search_units=None, classifications=None), tokens=ApiMetaTokens(input_tokens=None, output_tokens=6), warnings=None), response_id='b540d852-0afd-4329-af3c-b6f33c1d9a7e')"
      ]
     },
     "execution_count": 1,
     "metadata": {},
     "output_type": "execute_result"
    }
   ],
   "source": [
    "import cohere\n",
    "co = cohere.Client(api_key=\"D14bT4Bm9SoiXE5ioVryf2DGOyIw1yjm1ccR0giQ\")\n",
    "\n",
    "co.chat(\n",
    "  model=\"command-r-plus\",\n",
    "  message=\"Who is more popular: Nsync or Backstreet Boys?\",\n",
    "  search_queries_only=True\n",
    ")"
   ]
  },
  {
   "cell_type": "code",
   "execution_count": 3,
   "metadata": {},
   "outputs": [
    {
     "name": "stdout",
     "output_type": "stream",
     "text": [
      "I can help you upload a file to get it answered. You can upload files in a variety of ways, depending on the number of documents, their size, and the platform you are using. Here are some common methods:\n",
      "- Using a cloud-based platform: You can upload files to cloud storage services such as Google Drive, OneDrive, or Dropbox. These platforms allow you to access your files from any device and easily share them with others.\n",
      "- File transfer protocol (FTP): This method is commonly used to transfer files between computers or servers.\n",
      "- Drag-and-drop: Some websites and applications support drag-and-drop functionality, allowing you to drag files from your computer and drop them into the browser window or application interface.\n",
      "- Scanning: If you have a hard copy of a document, you can use a scanner or the camera on your smartphone to create a digital version. Then, you can upload the digitized document to your computer or directly to a cloud platform.\n",
      "\n",
      "Once you have uploaded the file, please specify the particular questions you have about the PDF, and I will be happy to answer them."
     ]
    }
   ],
   "source": [
    "import cohere \n",
    "\n",
    "co = cohere.Client(\n",
    "  api_key=\"D14bT4Bm9SoiXE5ioVryf2DGOyIw1yjm1ccR0giQ\", # This is your trial API key\n",
    ") \n",
    "\n",
    "stream = co.chat_stream( \n",
    "  model='command-r-plus',\n",
    "  message='how can i upload a file to get a saturated answer from that specific pdf.',\n",
    "  temperature=0.3,\n",
    "  chat_history=[],\n",
    "  prompt_truncation='AUTO',\n",
    "  connectors=[{\"id\":\"web-search\"}]\n",
    ") \n",
    "\n",
    "for event in stream:\n",
    "  if event.event_type == \"text-generation\":\n",
    "    print(event.text, end='')"
   ]
  },
  {
   "cell_type": "code",
   "execution_count": 5,
   "metadata": {},
   "outputs": [
    {
     "ename": "FileNotFoundError",
     "evalue": "[Errno 2] No such file or directory: './Document.csv'",
     "output_type": "error",
     "traceback": [
      "\u001b[0;31m---------------------------------------------------------------------------\u001b[0m",
      "\u001b[0;31mFileNotFoundError\u001b[0m                         Traceback (most recent call last)",
      "\u001b[1;32m/Users/prathamgauswami/Desktop/Cohere.ipynb Cell 4\u001b[0m line \u001b[0;36m8\n\u001b[1;32m      <a href='vscode-notebook-cell:/Users/prathamgauswami/Desktop/Cohere.ipynb#W4sZmlsZQ%3D%3D?line=0'>1</a>\u001b[0m \u001b[39mimport\u001b[39;00m \u001b[39mcohere\u001b[39;00m \n\u001b[1;32m      <a href='vscode-notebook-cell:/Users/prathamgauswami/Desktop/Cohere.ipynb#W4sZmlsZQ%3D%3D?line=2'>3</a>\u001b[0m co \u001b[39m=\u001b[39m cohere\u001b[39m.\u001b[39mClient(\n\u001b[1;32m      <a href='vscode-notebook-cell:/Users/prathamgauswami/Desktop/Cohere.ipynb#W4sZmlsZQ%3D%3D?line=3'>4</a>\u001b[0m   api_key\u001b[39m=\u001b[39m\u001b[39m\"\u001b[39m\u001b[39mD14bT4Bm9SoiXE5ioVryf2DGOyIw1yjm1ccR0giQ\u001b[39m\u001b[39m\"\u001b[39m, \u001b[39m# This is your trial API key\u001b[39;00m\n\u001b[1;32m      <a href='vscode-notebook-cell:/Users/prathamgauswami/Desktop/Cohere.ipynb#W4sZmlsZQ%3D%3D?line=4'>5</a>\u001b[0m ) \n\u001b[1;32m      <a href='vscode-notebook-cell:/Users/prathamgauswami/Desktop/Cohere.ipynb#W4sZmlsZQ%3D%3D?line=5'>6</a>\u001b[0m my_dataset \u001b[39m=\u001b[39m co\u001b[39m.\u001b[39mdatasets\u001b[39m.\u001b[39mcreate(\n\u001b[1;32m      <a href='vscode-notebook-cell:/Users/prathamgauswami/Desktop/Cohere.ipynb#W4sZmlsZQ%3D%3D?line=6'>7</a>\u001b[0m \tname\u001b[39m=\u001b[39m\u001b[39m\"\u001b[39m\u001b[39mshakespeare\u001b[39m\u001b[39m\"\u001b[39m,\n\u001b[0;32m----> <a href='vscode-notebook-cell:/Users/prathamgauswami/Desktop/Cohere.ipynb#W4sZmlsZQ%3D%3D?line=7'>8</a>\u001b[0m \tdata\u001b[39m=\u001b[39m\u001b[39mopen\u001b[39;49m(\u001b[39m\"\u001b[39;49m\u001b[39m./Document.csv\u001b[39;49m\u001b[39m\"\u001b[39;49m, \u001b[39m\"\u001b[39;49m\u001b[39mrb\u001b[39;49m\u001b[39m\"\u001b[39;49m),\n\u001b[1;32m      <a href='vscode-notebook-cell:/Users/prathamgauswami/Desktop/Cohere.ipynb#W4sZmlsZQ%3D%3D?line=8'>9</a>\u001b[0m \tdataset_type\u001b[39m=\u001b[39m\u001b[39m\"\u001b[39m\u001b[39mprompt-completion-finetune-input\u001b[39m\u001b[39m\"\u001b[39m)\n\u001b[1;32m     <a href='vscode-notebook-cell:/Users/prathamgauswami/Desktop/Cohere.ipynb#W4sZmlsZQ%3D%3D?line=10'>11</a>\u001b[0m \u001b[39mprint\u001b[39m(my_dataset\u001b[39m.\u001b[39mid)\n",
      "File \u001b[0;32m~/Library/Python/3.12/lib/python/site-packages/IPython/core/interactiveshell.py:324\u001b[0m, in \u001b[0;36m_modified_open\u001b[0;34m(file, *args, **kwargs)\u001b[0m\n\u001b[1;32m    317\u001b[0m \u001b[39mif\u001b[39;00m file \u001b[39min\u001b[39;00m {\u001b[39m0\u001b[39m, \u001b[39m1\u001b[39m, \u001b[39m2\u001b[39m}:\n\u001b[1;32m    318\u001b[0m     \u001b[39mraise\u001b[39;00m \u001b[39mValueError\u001b[39;00m(\n\u001b[1;32m    319\u001b[0m         \u001b[39mf\u001b[39m\u001b[39m\"\u001b[39m\u001b[39mIPython won\u001b[39m\u001b[39m'\u001b[39m\u001b[39mt let you open fd=\u001b[39m\u001b[39m{\u001b[39;00mfile\u001b[39m}\u001b[39;00m\u001b[39m by default \u001b[39m\u001b[39m\"\u001b[39m\n\u001b[1;32m    320\u001b[0m         \u001b[39m\"\u001b[39m\u001b[39mas it is likely to crash IPython. If you know what you are doing, \u001b[39m\u001b[39m\"\u001b[39m\n\u001b[1;32m    321\u001b[0m         \u001b[39m\"\u001b[39m\u001b[39myou can use builtins\u001b[39m\u001b[39m'\u001b[39m\u001b[39m open.\u001b[39m\u001b[39m\"\u001b[39m\n\u001b[1;32m    322\u001b[0m     )\n\u001b[0;32m--> 324\u001b[0m \u001b[39mreturn\u001b[39;00m io_open(file, \u001b[39m*\u001b[39;49margs, \u001b[39m*\u001b[39;49m\u001b[39m*\u001b[39;49mkwargs)\n",
      "\u001b[0;31mFileNotFoundError\u001b[0m: [Errno 2] No such file or directory: './Document.csv'"
     ]
    }
   ],
   "source": [
    "import cohere \n",
    "\n",
    "co = cohere.Client(\n",
    "  api_key=\"D14bT4Bm9SoiXE5ioVryf2DGOyIw1yjm1ccR0giQ\", # This is your trial API key\n",
    ") \n",
    "my_dataset = co.datasets.create(\n",
    "\tname=\"shakespeare\",\n",
    "\tdata=open(\"./Document.csv\", \"rb\"),\n",
    "\tdataset_type=\"prompt-completion-finetune-input\")\n",
    "\n",
    "print(my_dataset.id)"
   ]
  },
  {
   "cell_type": "code",
   "execution_count": 2,
   "metadata": {},
   "outputs": [
    {
     "name": "stdout",
     "output_type": "stream",
     "text": [
      "Requirement already satisfied: langchain in /Library/Frameworks/Python.framework/Versions/3.12/lib/python3.12/site-packages (0.2.5)\n",
      "Requirement already satisfied: PyYAML>=5.3 in /Library/Frameworks/Python.framework/Versions/3.12/lib/python3.12/site-packages (from langchain) (6.0.1)\n",
      "Requirement already satisfied: SQLAlchemy<3,>=1.4 in /Library/Frameworks/Python.framework/Versions/3.12/lib/python3.12/site-packages (from langchain) (2.0.31)\n",
      "Requirement already satisfied: aiohttp<4.0.0,>=3.8.3 in /Library/Frameworks/Python.framework/Versions/3.12/lib/python3.12/site-packages (from langchain) (3.9.5)\n",
      "Requirement already satisfied: langchain-core<0.3.0,>=0.2.7 in /Library/Frameworks/Python.framework/Versions/3.12/lib/python3.12/site-packages (from langchain) (0.2.9)\n",
      "Requirement already satisfied: langchain-text-splitters<0.3.0,>=0.2.0 in /Library/Frameworks/Python.framework/Versions/3.12/lib/python3.12/site-packages (from langchain) (0.2.1)\n",
      "Requirement already satisfied: langsmith<0.2.0,>=0.1.17 in /Library/Frameworks/Python.framework/Versions/3.12/lib/python3.12/site-packages (from langchain) (0.1.81)\n",
      "Requirement already satisfied: numpy<2.0.0,>=1.26.0 in /Library/Frameworks/Python.framework/Versions/3.12/lib/python3.12/site-packages (from langchain) (1.26.4)\n",
      "Requirement already satisfied: pydantic<3,>=1 in /Library/Frameworks/Python.framework/Versions/3.12/lib/python3.12/site-packages (from langchain) (2.7.4)\n",
      "Requirement already satisfied: requests<3,>=2 in /Library/Frameworks/Python.framework/Versions/3.12/lib/python3.12/site-packages (from langchain) (2.32.3)\n",
      "Requirement already satisfied: tenacity<9.0.0,>=8.1.0 in /Library/Frameworks/Python.framework/Versions/3.12/lib/python3.12/site-packages (from langchain) (8.4.1)\n",
      "Requirement already satisfied: aiosignal>=1.1.2 in /Library/Frameworks/Python.framework/Versions/3.12/lib/python3.12/site-packages (from aiohttp<4.0.0,>=3.8.3->langchain) (1.3.1)\n",
      "Requirement already satisfied: attrs>=17.3.0 in /Library/Frameworks/Python.framework/Versions/3.12/lib/python3.12/site-packages (from aiohttp<4.0.0,>=3.8.3->langchain) (23.2.0)\n",
      "Requirement already satisfied: frozenlist>=1.1.1 in /Library/Frameworks/Python.framework/Versions/3.12/lib/python3.12/site-packages (from aiohttp<4.0.0,>=3.8.3->langchain) (1.4.1)\n",
      "Requirement already satisfied: multidict<7.0,>=4.5 in /Library/Frameworks/Python.framework/Versions/3.12/lib/python3.12/site-packages (from aiohttp<4.0.0,>=3.8.3->langchain) (6.0.5)\n",
      "Requirement already satisfied: yarl<2.0,>=1.0 in /Library/Frameworks/Python.framework/Versions/3.12/lib/python3.12/site-packages (from aiohttp<4.0.0,>=3.8.3->langchain) (1.9.4)\n",
      "Requirement already satisfied: jsonpatch<2.0,>=1.33 in /Library/Frameworks/Python.framework/Versions/3.12/lib/python3.12/site-packages (from langchain-core<0.3.0,>=0.2.7->langchain) (1.33)\n",
      "Requirement already satisfied: packaging<25,>=23.2 in /Library/Frameworks/Python.framework/Versions/3.12/lib/python3.12/site-packages (from langchain-core<0.3.0,>=0.2.7->langchain) (24.1)\n",
      "Requirement already satisfied: orjson<4.0.0,>=3.9.14 in /Library/Frameworks/Python.framework/Versions/3.12/lib/python3.12/site-packages (from langsmith<0.2.0,>=0.1.17->langchain) (3.10.5)\n",
      "Requirement already satisfied: annotated-types>=0.4.0 in /Library/Frameworks/Python.framework/Versions/3.12/lib/python3.12/site-packages (from pydantic<3,>=1->langchain) (0.7.0)\n",
      "Requirement already satisfied: pydantic-core==2.18.4 in /Library/Frameworks/Python.framework/Versions/3.12/lib/python3.12/site-packages (from pydantic<3,>=1->langchain) (2.18.4)\n",
      "Requirement already satisfied: typing-extensions>=4.6.1 in /Library/Frameworks/Python.framework/Versions/3.12/lib/python3.12/site-packages (from pydantic<3,>=1->langchain) (4.12.2)\n",
      "Requirement already satisfied: charset-normalizer<4,>=2 in /Library/Frameworks/Python.framework/Versions/3.12/lib/python3.12/site-packages (from requests<3,>=2->langchain) (3.3.2)\n",
      "Requirement already satisfied: idna<4,>=2.5 in /Library/Frameworks/Python.framework/Versions/3.12/lib/python3.12/site-packages (from requests<3,>=2->langchain) (3.7)\n",
      "Requirement already satisfied: urllib3<3,>=1.21.1 in /Library/Frameworks/Python.framework/Versions/3.12/lib/python3.12/site-packages (from requests<3,>=2->langchain) (2.2.2)\n",
      "Requirement already satisfied: certifi>=2017.4.17 in /Library/Frameworks/Python.framework/Versions/3.12/lib/python3.12/site-packages (from requests<3,>=2->langchain) (2024.6.2)\n",
      "Requirement already satisfied: jsonpointer>=1.9 in /Library/Frameworks/Python.framework/Versions/3.12/lib/python3.12/site-packages (from jsonpatch<2.0,>=1.33->langchain-core<0.3.0,>=0.2.7->langchain) (3.0.0)\n",
      "Note: you may need to restart the kernel to use updated packages.\n"
     ]
    }
   ],
   "source": [
    "%pip install langchain"
   ]
  },
  {
   "cell_type": "code",
   "execution_count": 1,
   "metadata": {},
   "outputs": [
    {
     "name": "stdout",
     "output_type": "stream",
     "text": [
      "Collecting pypdf\n",
      "  Downloading pypdf-4.2.0-py3-none-any.whl.metadata (7.4 kB)\n",
      "Downloading pypdf-4.2.0-py3-none-any.whl (290 kB)\n",
      "\u001b[2K   \u001b[90m━━━━━━━━━━━━━━━━━━━━━━━━━━━━━━━━━━━━━━━━\u001b[0m \u001b[32m290.4/290.4 kB\u001b[0m \u001b[31m5.2 MB/s\u001b[0m eta \u001b[36m0:00:00\u001b[0ma \u001b[36m0:00:01\u001b[0m\n",
      "\u001b[?25hInstalling collected packages: pypdf\n",
      "Successfully installed pypdf-4.2.0\n",
      "Note: you may need to restart the kernel to use updated packages.\n"
     ]
    }
   ],
   "source": [
    "%pip install pypdf"
   ]
  },
  {
   "cell_type": "code",
   "execution_count": null,
   "metadata": {},
   "outputs": [],
   "source": []
  }
 ],
 "metadata": {
  "kernelspec": {
   "display_name": "Python 3",
   "language": "python",
   "name": "python3"
  },
  "language_info": {
   "codemirror_mode": {
    "name": "ipython",
    "version": 3
   },
   "file_extension": ".py",
   "mimetype": "text/x-python",
   "name": "python",
   "nbconvert_exporter": "python",
   "pygments_lexer": "ipython3",
   "version": "3.12.4"
  }
 },
 "nbformat": 4,
 "nbformat_minor": 2
}
